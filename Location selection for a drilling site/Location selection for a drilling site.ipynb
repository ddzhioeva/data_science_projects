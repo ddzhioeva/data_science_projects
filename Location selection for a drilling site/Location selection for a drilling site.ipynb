{
 "cells": [
  {
   "cell_type": "markdown",
   "metadata": {},
   "source": [
    "# Location selection for a drilling site"
   ]
  },
  {
   "cell_type": "markdown",
   "metadata": {},
   "source": [
    "Suppose you work for the mining company \"GlavRosGosNeft\". You need to decide where to drill a new well.\n",
    "\n",
    "You are provided with oil samples from three regions: 10,000 deposits in each region, where the quality of the oil and the volume of its reserves were measured. Build a machine learning model that will help determine the region where production will bring the greatest profit. Analyze potential profits and risks using the Bootstrap technique.\n",
    "\n",
    "Steps for selecting a location:\n",
    "\n",
    "- In the selected region, search for deposits and determine the values of their features.\n",
    "- Build a model and estimate the volume of reserves.\n",
    "- Select deposits with the highest estimated values. The number of deposits depends on the company's budget and the cost of developing one well.\n",
    "- Profit is equal to the total profit from the selected deposits."
   ]
  },
  {
   "cell_type": "markdown",
   "metadata": {},
   "source": [
    "## Data Loading and Preparation"
   ]
  },
  {
   "cell_type": "markdown",
   "metadata": {},
   "source": [
    "### Importing libraries "
   ]
  },
  {
   "cell_type": "code",
   "execution_count": 1,
   "metadata": {},
   "outputs": [],
   "source": [
    "import pandas as pd\n",
    "import seaborn as sns\n",
    "import random\n",
    "import numpy as np\n",
    "import matplotlib.pyplot as plt\n",
    "from sklearn import tree\n",
    "from sklearn.metrics import accuracy_score\n",
    "from sklearn.ensemble import RandomForestClassifier\n",
    "from sklearn.tree import DecisionTreeClassifier\n",
    "from sklearn.linear_model import LinearRegression\n",
    "from sklearn.model_selection import train_test_split, GridSearchCV\n",
    "from sklearn.metrics import precision_score, recall_score, confusion_matrix\n",
    "from sklearn.dummy import DummyClassifier\n",
    "from sklearn.metrics import classification_report\n",
    "from sklearn.metrics import confusion_matrix, ConfusionMatrixDisplay\n",
    "from sklearn.model_selection import train_test_split, RandomizedSearchCV\n",
    "from sklearn.preprocessing import StandardScaler\n",
    "from sklearn.metrics import precision_score\n",
    "from sklearn.metrics import recall_score\n",
    "from sklearn.metrics import f1_score\n",
    "from sklearn.impute import SimpleImputer\n",
    "from sklearn.utils import shuffle\n",
    "from sklearn.metrics import roc_curve, roc_auc_score\n",
    "from sklearn.datasets import load_boston\n",
    "from sklearn.inspection import permutation_importance\n",
    "from sklearn.metrics import precision_recall_curve\n",
    "from sklearn.model_selection import cross_val_score\n",
    "from sklearn.metrics import mean_squared_error"
   ]
  },
  {
   "cell_type": "markdown",
   "metadata": {},
   "source": [
    "### Loading files/Exploring datasets"
   ]
  },
  {
   "cell_type": "code",
   "execution_count": 2,
   "metadata": {},
   "outputs": [],
   "source": [
    "try:\n",
    "    data = pd.read_csv('/datasets/geo_data_0.csv')\n",
    "except:\n",
    "    data = pd.read_csv('https://code.s3.yandex.net//datasets/geo_data_0.csv')"
   ]
  },
  {
   "cell_type": "code",
   "execution_count": 3,
   "metadata": {},
   "outputs": [
    {
     "data": {
      "text/html": [
       "<div>\n",
       "<style scoped>\n",
       "    .dataframe tbody tr th:only-of-type {\n",
       "        vertical-align: middle;\n",
       "    }\n",
       "\n",
       "    .dataframe tbody tr th {\n",
       "        vertical-align: top;\n",
       "    }\n",
       "\n",
       "    .dataframe thead th {\n",
       "        text-align: right;\n",
       "    }\n",
       "</style>\n",
       "<table border=\"1\" class=\"dataframe\">\n",
       "  <thead>\n",
       "    <tr style=\"text-align: right;\">\n",
       "      <th></th>\n",
       "      <th>id</th>\n",
       "      <th>f0</th>\n",
       "      <th>f1</th>\n",
       "      <th>f2</th>\n",
       "      <th>product</th>\n",
       "    </tr>\n",
       "  </thead>\n",
       "  <tbody>\n",
       "    <tr>\n",
       "      <th>0</th>\n",
       "      <td>txEyH</td>\n",
       "      <td>0.705745</td>\n",
       "      <td>-0.497823</td>\n",
       "      <td>1.221170</td>\n",
       "      <td>105.280062</td>\n",
       "    </tr>\n",
       "    <tr>\n",
       "      <th>1</th>\n",
       "      <td>2acmU</td>\n",
       "      <td>1.334711</td>\n",
       "      <td>-0.340164</td>\n",
       "      <td>4.365080</td>\n",
       "      <td>73.037750</td>\n",
       "    </tr>\n",
       "    <tr>\n",
       "      <th>2</th>\n",
       "      <td>409Wp</td>\n",
       "      <td>1.022732</td>\n",
       "      <td>0.151990</td>\n",
       "      <td>1.419926</td>\n",
       "      <td>85.265647</td>\n",
       "    </tr>\n",
       "    <tr>\n",
       "      <th>3</th>\n",
       "      <td>iJLyR</td>\n",
       "      <td>-0.032172</td>\n",
       "      <td>0.139033</td>\n",
       "      <td>2.978566</td>\n",
       "      <td>168.620776</td>\n",
       "    </tr>\n",
       "    <tr>\n",
       "      <th>4</th>\n",
       "      <td>Xdl7t</td>\n",
       "      <td>1.988431</td>\n",
       "      <td>0.155413</td>\n",
       "      <td>4.751769</td>\n",
       "      <td>154.036647</td>\n",
       "    </tr>\n",
       "  </tbody>\n",
       "</table>\n",
       "</div>"
      ],
      "text/plain": [
       "      id        f0        f1        f2     product\n",
       "0  txEyH  0.705745 -0.497823  1.221170  105.280062\n",
       "1  2acmU  1.334711 -0.340164  4.365080   73.037750\n",
       "2  409Wp  1.022732  0.151990  1.419926   85.265647\n",
       "3  iJLyR -0.032172  0.139033  2.978566  168.620776\n",
       "4  Xdl7t  1.988431  0.155413  4.751769  154.036647"
      ]
     },
     "execution_count": 3,
     "metadata": {},
     "output_type": "execute_result"
    }
   ],
   "source": [
    "data.head()"
   ]
  },
  {
   "cell_type": "code",
   "execution_count": 4,
   "metadata": {},
   "outputs": [
    {
     "name": "stdout",
     "output_type": "stream",
     "text": [
      "<class 'pandas.core.frame.DataFrame'>\n",
      "RangeIndex: 100000 entries, 0 to 99999\n",
      "Data columns (total 5 columns):\n",
      " #   Column   Non-Null Count   Dtype  \n",
      "---  ------   --------------   -----  \n",
      " 0   id       100000 non-null  object \n",
      " 1   f0       100000 non-null  float64\n",
      " 2   f1       100000 non-null  float64\n",
      " 3   f2       100000 non-null  float64\n",
      " 4   product  100000 non-null  float64\n",
      "dtypes: float64(4), object(1)\n",
      "memory usage: 3.8+ MB\n"
     ]
    }
   ],
   "source": [
    "data.info()"
   ]
  },
  {
   "cell_type": "code",
   "execution_count": 5,
   "metadata": {},
   "outputs": [
    {
     "data": {
      "text/plain": [
       "id         0\n",
       "f0         0\n",
       "f1         0\n",
       "f2         0\n",
       "product    0\n",
       "dtype: int64"
      ]
     },
     "execution_count": 5,
     "metadata": {},
     "output_type": "execute_result"
    }
   ],
   "source": [
    "data.isna().sum()"
   ]
  },
  {
   "cell_type": "code",
   "execution_count": 6,
   "metadata": {},
   "outputs": [],
   "source": [
    "try:\n",
    "    data_1 = pd.read_csv('/datasets/geo_data_1.csv')\n",
    "except:\n",
    "    data_1 = pd.read_csv('https://code.s3.yandex.net//datasets/geo_data_1.csv')"
   ]
  },
  {
   "cell_type": "code",
   "execution_count": 7,
   "metadata": {},
   "outputs": [
    {
     "data": {
      "text/html": [
       "<div>\n",
       "<style scoped>\n",
       "    .dataframe tbody tr th:only-of-type {\n",
       "        vertical-align: middle;\n",
       "    }\n",
       "\n",
       "    .dataframe tbody tr th {\n",
       "        vertical-align: top;\n",
       "    }\n",
       "\n",
       "    .dataframe thead th {\n",
       "        text-align: right;\n",
       "    }\n",
       "</style>\n",
       "<table border=\"1\" class=\"dataframe\">\n",
       "  <thead>\n",
       "    <tr style=\"text-align: right;\">\n",
       "      <th></th>\n",
       "      <th>id</th>\n",
       "      <th>f0</th>\n",
       "      <th>f1</th>\n",
       "      <th>f2</th>\n",
       "      <th>product</th>\n",
       "    </tr>\n",
       "  </thead>\n",
       "  <tbody>\n",
       "    <tr>\n",
       "      <th>0</th>\n",
       "      <td>kBEdx</td>\n",
       "      <td>-15.001348</td>\n",
       "      <td>-8.276000</td>\n",
       "      <td>-0.005876</td>\n",
       "      <td>3.179103</td>\n",
       "    </tr>\n",
       "    <tr>\n",
       "      <th>1</th>\n",
       "      <td>62mP7</td>\n",
       "      <td>14.272088</td>\n",
       "      <td>-3.475083</td>\n",
       "      <td>0.999183</td>\n",
       "      <td>26.953261</td>\n",
       "    </tr>\n",
       "    <tr>\n",
       "      <th>2</th>\n",
       "      <td>vyE1P</td>\n",
       "      <td>6.263187</td>\n",
       "      <td>-5.948386</td>\n",
       "      <td>5.001160</td>\n",
       "      <td>134.766305</td>\n",
       "    </tr>\n",
       "    <tr>\n",
       "      <th>3</th>\n",
       "      <td>KcrkZ</td>\n",
       "      <td>-13.081196</td>\n",
       "      <td>-11.506057</td>\n",
       "      <td>4.999415</td>\n",
       "      <td>137.945408</td>\n",
       "    </tr>\n",
       "    <tr>\n",
       "      <th>4</th>\n",
       "      <td>AHL4O</td>\n",
       "      <td>12.702195</td>\n",
       "      <td>-8.147433</td>\n",
       "      <td>5.004363</td>\n",
       "      <td>134.766305</td>\n",
       "    </tr>\n",
       "  </tbody>\n",
       "</table>\n",
       "</div>"
      ],
      "text/plain": [
       "      id         f0         f1        f2     product\n",
       "0  kBEdx -15.001348  -8.276000 -0.005876    3.179103\n",
       "1  62mP7  14.272088  -3.475083  0.999183   26.953261\n",
       "2  vyE1P   6.263187  -5.948386  5.001160  134.766305\n",
       "3  KcrkZ -13.081196 -11.506057  4.999415  137.945408\n",
       "4  AHL4O  12.702195  -8.147433  5.004363  134.766305"
      ]
     },
     "execution_count": 7,
     "metadata": {},
     "output_type": "execute_result"
    }
   ],
   "source": [
    "data_1.head()"
   ]
  },
  {
   "cell_type": "code",
   "execution_count": 8,
   "metadata": {},
   "outputs": [
    {
     "name": "stdout",
     "output_type": "stream",
     "text": [
      "<class 'pandas.core.frame.DataFrame'>\n",
      "RangeIndex: 100000 entries, 0 to 99999\n",
      "Data columns (total 5 columns):\n",
      " #   Column   Non-Null Count   Dtype  \n",
      "---  ------   --------------   -----  \n",
      " 0   id       100000 non-null  object \n",
      " 1   f0       100000 non-null  float64\n",
      " 2   f1       100000 non-null  float64\n",
      " 3   f2       100000 non-null  float64\n",
      " 4   product  100000 non-null  float64\n",
      "dtypes: float64(4), object(1)\n",
      "memory usage: 3.8+ MB\n"
     ]
    }
   ],
   "source": [
    "data_1.info()"
   ]
  },
  {
   "cell_type": "code",
   "execution_count": 9,
   "metadata": {},
   "outputs": [
    {
     "data": {
      "text/plain": [
       "id         0\n",
       "f0         0\n",
       "f1         0\n",
       "f2         0\n",
       "product    0\n",
       "dtype: int64"
      ]
     },
     "execution_count": 9,
     "metadata": {},
     "output_type": "execute_result"
    }
   ],
   "source": [
    "data_1.isna().sum()"
   ]
  },
  {
   "cell_type": "code",
   "execution_count": 10,
   "metadata": {},
   "outputs": [],
   "source": [
    "try:\n",
    "    data_2 = pd.read_csv('datasets/geo_data_2.csv')\n",
    "except:\n",
    "    data_2 = pd.read_csv('https://code.s3.yandex.net//datasets/geo_data_2.csv')"
   ]
  },
  {
   "cell_type": "code",
   "execution_count": 11,
   "metadata": {},
   "outputs": [
    {
     "data": {
      "text/html": [
       "<div>\n",
       "<style scoped>\n",
       "    .dataframe tbody tr th:only-of-type {\n",
       "        vertical-align: middle;\n",
       "    }\n",
       "\n",
       "    .dataframe tbody tr th {\n",
       "        vertical-align: top;\n",
       "    }\n",
       "\n",
       "    .dataframe thead th {\n",
       "        text-align: right;\n",
       "    }\n",
       "</style>\n",
       "<table border=\"1\" class=\"dataframe\">\n",
       "  <thead>\n",
       "    <tr style=\"text-align: right;\">\n",
       "      <th></th>\n",
       "      <th>id</th>\n",
       "      <th>f0</th>\n",
       "      <th>f1</th>\n",
       "      <th>f2</th>\n",
       "      <th>product</th>\n",
       "    </tr>\n",
       "  </thead>\n",
       "  <tbody>\n",
       "    <tr>\n",
       "      <th>0</th>\n",
       "      <td>fwXo0</td>\n",
       "      <td>-1.146987</td>\n",
       "      <td>0.963328</td>\n",
       "      <td>-0.828965</td>\n",
       "      <td>27.758673</td>\n",
       "    </tr>\n",
       "    <tr>\n",
       "      <th>1</th>\n",
       "      <td>WJtFt</td>\n",
       "      <td>0.262778</td>\n",
       "      <td>0.269839</td>\n",
       "      <td>-2.530187</td>\n",
       "      <td>56.069697</td>\n",
       "    </tr>\n",
       "    <tr>\n",
       "      <th>2</th>\n",
       "      <td>ovLUW</td>\n",
       "      <td>0.194587</td>\n",
       "      <td>0.289035</td>\n",
       "      <td>-5.586433</td>\n",
       "      <td>62.871910</td>\n",
       "    </tr>\n",
       "    <tr>\n",
       "      <th>3</th>\n",
       "      <td>q6cA6</td>\n",
       "      <td>2.236060</td>\n",
       "      <td>-0.553760</td>\n",
       "      <td>0.930038</td>\n",
       "      <td>114.572842</td>\n",
       "    </tr>\n",
       "    <tr>\n",
       "      <th>4</th>\n",
       "      <td>WPMUX</td>\n",
       "      <td>-0.515993</td>\n",
       "      <td>1.716266</td>\n",
       "      <td>5.899011</td>\n",
       "      <td>149.600746</td>\n",
       "    </tr>\n",
       "  </tbody>\n",
       "</table>\n",
       "</div>"
      ],
      "text/plain": [
       "      id        f0        f1        f2     product\n",
       "0  fwXo0 -1.146987  0.963328 -0.828965   27.758673\n",
       "1  WJtFt  0.262778  0.269839 -2.530187   56.069697\n",
       "2  ovLUW  0.194587  0.289035 -5.586433   62.871910\n",
       "3  q6cA6  2.236060 -0.553760  0.930038  114.572842\n",
       "4  WPMUX -0.515993  1.716266  5.899011  149.600746"
      ]
     },
     "execution_count": 11,
     "metadata": {},
     "output_type": "execute_result"
    }
   ],
   "source": [
    "data_2.head()"
   ]
  },
  {
   "cell_type": "code",
   "execution_count": 12,
   "metadata": {
    "scrolled": true
   },
   "outputs": [
    {
     "name": "stdout",
     "output_type": "stream",
     "text": [
      "<class 'pandas.core.frame.DataFrame'>\n",
      "RangeIndex: 100000 entries, 0 to 99999\n",
      "Data columns (total 5 columns):\n",
      " #   Column   Non-Null Count   Dtype  \n",
      "---  ------   --------------   -----  \n",
      " 0   id       100000 non-null  object \n",
      " 1   f0       100000 non-null  float64\n",
      " 2   f1       100000 non-null  float64\n",
      " 3   f2       100000 non-null  float64\n",
      " 4   product  100000 non-null  float64\n",
      "dtypes: float64(4), object(1)\n",
      "memory usage: 3.8+ MB\n"
     ]
    }
   ],
   "source": [
    "data_2.info()"
   ]
  },
  {
   "cell_type": "code",
   "execution_count": 13,
   "metadata": {},
   "outputs": [
    {
     "data": {
      "text/plain": [
       "id         0\n",
       "f0         0\n",
       "f1         0\n",
       "f2         0\n",
       "product    0\n",
       "dtype: int64"
      ]
     },
     "execution_count": 13,
     "metadata": {},
     "output_type": "execute_result"
    }
   ],
   "source": [
    "data_2.isna().sum()"
   ]
  },
  {
   "cell_type": "markdown",
   "metadata": {},
   "source": [
    "### Looking at feature correlations"
   ]
  },
  {
   "cell_type": "markdown",
   "metadata": {},
   "source": [
    "#### Data"
   ]
  },
  {
   "cell_type": "code",
   "execution_count": 14,
   "metadata": {},
   "outputs": [
    {
     "data": {
      "image/png": "[encoded data removed]",
      "text/plain": [
       "<Figure size 1080x936 with 2 Axes>"
      ]
     },
     "metadata": {
      "needs_background": "light"
     },
     "output_type": "display_data"
    }
   ],
   "source": [
    "plt.figure(figsize=(15, 13))\n",
    "sns.heatmap(data.corr(), annot=True);"
   ]
  },
  {
   "cell_type": "markdown",
   "metadata": {},
   "source": [
    "We observe a correlation of 0.48 between the 'product' and 'f2' features, which could potentially impact the logistic regression model's training."
   ]
  },
  {
   "cell_type": "markdown",
   "metadata": {},
   "source": [
    "#### Data_1"
   ]
  },
  {
   "cell_type": "code",
   "execution_count": 15,
   "metadata": {},
   "outputs": [
    {
     "data": {
      "image/png": "[encoded data removed]",
      "text/plain": [
       "<Figure size 1080x936 with 2 Axes>"
      ]
     },
     "metadata": {
      "needs_background": "light"
     },
     "output_type": "display_data"
    }
   ],
   "source": [
    "plt.figure(figsize=(15, 13))\n",
    "sns.heatmap(data_1.corr(), annot=True);"
   ]
  },
  {
   "cell_type": "markdown",
   "metadata": {},
   "source": [
    "In data_1, there is a strong correlation between product and f1, f2, which equals 1. Such a correlation will strongly impact the training of a linear regression model. As there are very few features, it is difficult to say whether or not they should be removed. During the training process, we will observe the indicators, and may remove some features."
   ]
  },
  {
   "cell_type": "markdown",
   "metadata": {},
   "source": [
    "#### Data_2"
   ]
  },
  {
   "cell_type": "code",
   "execution_count": 16,
   "metadata": {},
   "outputs": [
    {
     "data": {
      "image/png": "[encoded data removed]",
      "text/plain": [
       "<Figure size 1080x936 with 2 Axes>"
      ]
     },
     "metadata": {
      "needs_background": "light"
     },
     "output_type": "display_data"
    }
   ],
   "source": [
    "plt.figure(figsize=(15, 13))\n",
    "sns.heatmap(data_2.corr(), annot=True);"
   ]
  },
  {
   "cell_type": "markdown",
   "metadata": {},
   "source": [
    "A correlation of 0.45 between \"product\" and \"f2\" may have some impact on the logistic regression model training, but it is not a very strong correlation. It's important to consider other factors as well, such as the size of the dataset, the distribution of the data, and the business goals of the model. During the training process, it's recommended to monitor the performance metrics of the model and experiment with different feature combinations to achieve the best results."
   ]
  },
  {
   "cell_type": "markdown",
   "metadata": {},
   "source": [
    "### Checking feature types"
   ]
  },
  {
   "cell_type": "code",
   "execution_count": 17,
   "metadata": {},
   "outputs": [
    {
     "name": "stdout",
     "output_type": "stream",
     "text": [
      "id          object\n",
      "f0         float64\n",
      "f1         float64\n",
      "f2         float64\n",
      "product    float64\n",
      "dtype: object\n"
     ]
    }
   ],
   "source": [
    "print(data.dtypes)"
   ]
  },
  {
   "cell_type": "code",
   "execution_count": 18,
   "metadata": {},
   "outputs": [
    {
     "name": "stdout",
     "output_type": "stream",
     "text": [
      "id          object\n",
      "f0         float64\n",
      "f1         float64\n",
      "f2         float64\n",
      "product    float64\n",
      "dtype: object\n"
     ]
    }
   ],
   "source": [
    "print(data_1.dtypes)"
   ]
  },
  {
   "cell_type": "code",
   "execution_count": 19,
   "metadata": {
    "scrolled": true
   },
   "outputs": [
    {
     "name": "stdout",
     "output_type": "stream",
     "text": [
      "id          object\n",
      "f0         float64\n",
      "f1         float64\n",
      "f2         float64\n",
      "product    float64\n",
      "dtype: object\n"
     ]
    }
   ],
   "source": [
    "print(data_2.dtypes)"
   ]
  },
  {
   "cell_type": "markdown",
   "metadata": {},
   "source": [
    "### Drop columns"
   ]
  },
  {
   "cell_type": "code",
   "execution_count": 20,
   "metadata": {},
   "outputs": [
    {
     "name": "stdout",
     "output_type": "stream",
     "text": [
      "             f0        f1        f2     product\n",
      "0      0.705745 -0.497823  1.221170  105.280062\n",
      "1      1.334711 -0.340164  4.365080   73.037750\n",
      "2      1.022732  0.151990  1.419926   85.265647\n",
      "3     -0.032172  0.139033  2.978566  168.620776\n",
      "4      1.988431  0.155413  4.751769  154.036647\n",
      "...         ...       ...       ...         ...\n",
      "99995  0.971957  0.370953  6.075346  110.744026\n",
      "99996  1.392429 -0.382606  1.273912  122.346843\n",
      "99997  1.029585  0.018787 -1.348308   64.375443\n",
      "99998  0.998163 -0.528582  1.583869   74.040764\n",
      "99999  1.764754 -0.266417  5.722849  149.633246\n",
      "\n",
      "[100000 rows x 4 columns]\n"
     ]
    }
   ],
   "source": [
    "data = data.drop(['id'], axis=1)\n",
    "print(data)"
   ]
  },
  {
   "cell_type": "code",
   "execution_count": 21,
   "metadata": {
    "scrolled": true
   },
   "outputs": [
    {
     "name": "stdout",
     "output_type": "stream",
     "text": [
      "              f0         f1        f2     product\n",
      "0     -15.001348  -8.276000 -0.005876    3.179103\n",
      "1      14.272088  -3.475083  0.999183   26.953261\n",
      "2       6.263187  -5.948386  5.001160  134.766305\n",
      "3     -13.081196 -11.506057  4.999415  137.945408\n",
      "4      12.702195  -8.147433  5.004363  134.766305\n",
      "...          ...        ...       ...         ...\n",
      "99995   9.535637  -6.878139  1.998296   53.906522\n",
      "99996 -10.160631 -12.558096  5.005581  137.945408\n",
      "99997  -7.378891  -3.084104  4.998651  137.945408\n",
      "99998   0.665714  -6.152593  1.000146   30.132364\n",
      "99999  -3.426139  -7.794274 -0.003299    3.179103\n",
      "\n",
      "[100000 rows x 4 columns]\n"
     ]
    }
   ],
   "source": [
    "data_1 = data_1.drop(['id'], axis=1)\n",
    "print(data_1)"
   ]
  },
  {
   "cell_type": "code",
   "execution_count": 22,
   "metadata": {
    "scrolled": true
   },
   "outputs": [
    {
     "name": "stdout",
     "output_type": "stream",
     "text": [
      "             f0        f1        f2     product\n",
      "0     -1.146987  0.963328 -0.828965   27.758673\n",
      "1      0.262778  0.269839 -2.530187   56.069697\n",
      "2      0.194587  0.289035 -5.586433   62.871910\n",
      "3      2.236060 -0.553760  0.930038  114.572842\n",
      "4     -0.515993  1.716266  5.899011  149.600746\n",
      "...         ...       ...       ...         ...\n",
      "99995 -1.777037  1.125220  6.263374  172.327046\n",
      "99996 -1.261523 -0.894828  2.524545  138.748846\n",
      "99997 -1.199934 -2.957637  5.219411  157.080080\n",
      "99998 -2.419896  2.417221 -5.548444   51.795253\n",
      "99999 -2.551421 -2.025625  6.090891  102.775767\n",
      "\n",
      "[100000 rows x 4 columns]\n"
     ]
    }
   ],
   "source": [
    "data_2 = data_2.drop(['id'], axis=1)\n",
    "print(data_2)"
   ]
  },
  {
   "cell_type": "markdown",
   "metadata": {},
   "source": [
    "## Training and testing the model"
   ]
  },
  {
   "cell_type": "markdown",
   "metadata": {},
   "source": [
    "### We trained the models, split the datasets, and calculated RMSE, score, and average predicted reserve using a loop."
   ]
  },
  {
   "cell_type": "code",
   "execution_count": 23,
   "metadata": {},
   "outputs": [],
   "source": [
    "rmse_list = []\n",
    "predictions_list = []\n",
    "score_list = []\n",
    "target = []\n",
    "predictions_df = pd.DataFrame()\n",
    "target_df = pd.DataFrame()\n",
    "\n",
    "for i,n in zip([data,data_1,data_2],range(3)):\n",
    "    X = i.drop(['product'], axis=1)\n",
    "    y = i['product']\n",
    "    X_train, X_valid, y_train, y_valid = train_test_split(\n",
    "        X, y, random_state=12345, test_size=0.25) \n",
    "    \n",
    "    lr = LinearRegression()\n",
    "    lr.fit(X_train, y_train)\n",
    "    predictions = lr.predict(X_valid)\n",
    "    rmse = mean_squared_error(y_valid, predictions)**0.5\n",
    "    rmse_list.append(rmse)\n",
    "    predictions_list.append(predictions.mean())\n",
    "    score_list.append(lr.score(X_train,y_train))\n",
    "    target.append(i['product'].mean())\n",
    "    target_df[n] = y_valid\n",
    "    predictions_df[n] = predictions"
   ]
  },
  {
   "cell_type": "code",
   "execution_count": 24,
   "metadata": {},
   "outputs": [
    {
     "data": {
      "text/html": [
       "<div>\n",
       "<style scoped>\n",
       "    .dataframe tbody tr th:only-of-type {\n",
       "        vertical-align: middle;\n",
       "    }\n",
       "\n",
       "    .dataframe tbody tr th {\n",
       "        vertical-align: top;\n",
       "    }\n",
       "\n",
       "    .dataframe thead th {\n",
       "        text-align: right;\n",
       "    }\n",
       "</style>\n",
       "<table border=\"1\" class=\"dataframe\">\n",
       "  <thead>\n",
       "    <tr style=\"text-align: right;\">\n",
       "      <th></th>\n",
       "      <th>region 1</th>\n",
       "      <th>region 2</th>\n",
       "      <th>region 3</th>\n",
       "    </tr>\n",
       "  </thead>\n",
       "  <tbody>\n",
       "    <tr>\n",
       "      <th>RMSE</th>\n",
       "      <td>37.579422</td>\n",
       "      <td>0.893099</td>\n",
       "      <td>40.029709</td>\n",
       "    </tr>\n",
       "    <tr>\n",
       "      <th>SCORE</th>\n",
       "      <td>0.274239</td>\n",
       "      <td>0.999625</td>\n",
       "      <td>0.196614</td>\n",
       "    </tr>\n",
       "    <tr>\n",
       "      <th>PREDICTED MEAN</th>\n",
       "      <td>92.592568</td>\n",
       "      <td>68.728547</td>\n",
       "      <td>94.965046</td>\n",
       "    </tr>\n",
       "    <tr>\n",
       "      <th>TARGET MEAN</th>\n",
       "      <td>92.500000</td>\n",
       "      <td>68.825000</td>\n",
       "      <td>95.000000</td>\n",
       "    </tr>\n",
       "  </tbody>\n",
       "</table>\n",
       "</div>"
      ],
      "text/plain": [
       "                 region 1   region 2   region 3\n",
       "RMSE            37.579422   0.893099  40.029709\n",
       "SCORE            0.274239   0.999625   0.196614\n",
       "PREDICTED MEAN  92.592568  68.728547  94.965046\n",
       "TARGET MEAN     92.500000  68.825000  95.000000"
      ]
     },
     "execution_count": 24,
     "metadata": {},
     "output_type": "execute_result"
    }
   ],
   "source": [
    "target_df = target_df.reset_index(drop=True)\n",
    "scorelist = pd.DataFrame(\n",
    "    data=[rmse_list, score_list, predictions_list, target], \n",
    "    index=['RMSE','SCORE','PREDICTED MEAN', 'TARGET MEAN'], \n",
    "    columns=['region 1','region 2','region 3'])\n",
    "scorelist"
   ]
  },
  {
   "cell_type": "markdown",
   "metadata": {},
   "source": [
    "Using a loop, we split the data into 75:25 train-test sets and outputted the RMSE, model quality score, and saved the predictions in a variable. It can be concluded that the first and third dataset splits are of low quality (low score, relatively high RMSE)."
   ]
  },
  {
   "cell_type": "markdown",
   "metadata": {},
   "source": [
    "## The preparation for profit calculation"
   ]
  },
  {
   "cell_type": "markdown",
   "metadata": {},
   "source": [
    "### Key values for calculations"
   ]
  },
  {
   "cell_type": "code",
   "execution_count": 25,
   "metadata": {},
   "outputs": [],
   "source": [
    "BUDGET = 10_000_000_000 # The budget for developing oil wells in the region is 10 billion rubles\n",
    "INCOME_PER_BARREL = 450000 # The income from each unit of product is 450,000 rubles\n",
    "INCOME_PER_ITEM = 450 # The income from one barrel of oil is 450 rubles\n",
    "OILFIELDS= 500 # During exploration, 500 points are studied\n",
    "BEST_OILFIELDS = 200 # 200 best wells for development"
   ]
  },
  {
   "cell_type": "markdown",
   "metadata": {},
   "source": [
    "### Calculating the sufficient volume of raw materials for profitable development"
   ]
  },
  {
   "cell_type": "code",
   "execution_count": 26,
   "metadata": {},
   "outputs": [
    {
     "name": "stdout",
     "output_type": "stream",
     "text": [
      "The cost of developing an oil well: 50000000.0\n",
      "The sufficient volume of raw materials for profitable development: 111.11111111111111\n"
     ]
    }
   ],
   "source": [
    "COSTS = BUDGET/BEST_OILFIELDS #Cost per oil well for development\n",
    "PRODUCT_VOLUME = BUDGET/(200 * INCOME_PER_BARREL) #200 - number of oil wells\n",
    "print('The cost of developing an oil well:', COSTS)\n",
    "print('The sufficient volume of raw materials for profitable development:', PRODUCT_VOLUME)"
   ]
  },
  {
   "cell_type": "markdown",
   "metadata": {},
   "source": [
    "The sufficient volume of raw materials for profitable development of a new oil well is 111 thousand barrels. The cost of developing an oil well is 50 million rubles, which is higher than the average reserves of raw materials. In the first region, the average reserves are 92 thousand barrels, in the second - 68, and in the third - 94. The variables were made constant."
   ]
  },
  {
   "cell_type": "markdown",
   "metadata": {},
   "source": [
    "### The function for calculating profits by regions"
   ]
  },
  {
   "cell_type": "markdown",
   "metadata": {},
   "source": [
    "I randomly select 500 points from the validation set features, then the model makes predictions on them, from these predictions I choose the 200 best values. After that, I sum up the 200 values and calculate the profit."
   ]
  },
  {
   "cell_type": "code",
   "execution_count": 27,
   "metadata": {},
   "outputs": [],
   "source": [
    "def revenue(target, probabilities):\n",
    "    probabilities_sorted = probabilities.sort_values(ascending=False)\n",
    "    selected = target[probabilities_sorted.index][:200]\n",
    "    \n",
    "    return INCOME_PER_BARREL * sum(selected) - (BUDGET)"
   ]
  },
  {
   "cell_type": "code",
   "execution_count": 28,
   "metadata": {},
   "outputs": [
    {
     "name": "stdout",
     "output_type": "stream",
     "text": [
      "Profit of the first region: 30466293.97 billion rubles\n",
      "Profit of the second region: 22156758.69 billion rubles\n",
      "Profit of the third region: 2.71 billion rubles\n"
     ]
    }
   ],
   "source": [
    "print('Profit of the first region: {:.2f} billion rubles'.format(revenue(target_df[0], predictions_df[0])/109))\n",
    "print('Profit of the second region: {:.2f} billion rubles'.format(revenue(target_df[1], predictions_df[1])/109))\n",
    "print('Profit of the third region: {:.2f} billion rubles'.format(revenue(target_df[2], predictions_df[2])/10**9))"
   ]
  },
  {
   "cell_type": "markdown",
   "metadata": {},
   "source": [
    "We obtained a relatively small profit for all regions. The profit is not very high, considering the cost of developing one oil well, which is at least 111 barrels. Let's continue the research to make a clearer conclusion about the choice of region."
   ]
  },
  {
   "cell_type": "markdown",
   "metadata": {},
   "source": [
    "## Calculation of profits and risks"
   ]
  },
  {
   "cell_type": "markdown",
   "metadata": {},
   "source": [
    "#### The first region"
   ]
  },
  {
   "cell_type": "code",
   "execution_count": 32,
   "metadata": {},
   "outputs": [
    {
     "name": "stdout",
     "output_type": "stream",
     "text": [
      "Average revenue: 0.42593852691059225\n",
      "2.5th percentile: -0.10209009483793645\n",
      "Risk: 6.00%\n",
      "95% confidence interval:  (-102090094.83793645, 947976353.3583689)\n"
     ]
    }
   ],
   "source": [
    "state = np.random.RandomState(12345)\n",
    "revenues = []\n",
    "\n",
    "for i in range(1000):\n",
    "    target_subsample = target_df[0].sample(n=500, replace=True, random_state=state)\n",
    "    probs_subsample = predictions_df[0][target_subsample.index]\n",
    "    revenues.append(revenue(target_subsample, probs_subsample))\n",
    "\n",
    "revenues = pd.Series(revenues)\n",
    "lower = revenues.quantile(0.025)\n",
    "mean = revenues.mean()\n",
    "risks = (revenues < 0).mean()\n",
    "risks_percent = risks * 100\n",
    "print(\"Average revenue:\", mean/10**9)\n",
    "print(\"2.5th percentile:\", lower/10**9)\n",
    "print(\"Risk: {:.2f}%\".format(risks_percent))\n",
    "final_revenues = []\n",
    "confidence_interval = (revenues.quantile(0.025), revenues.quantile(0.975))\n",
    "print('95% confidence interval: ', confidence_interval)\n",
    "final_revenues.append(('Region 1', mean/109, lower/109, confidence_interval, risks))"
   ]
  },
  {
   "cell_type": "markdown",
   "metadata": {},
   "source": [
    "#### The second region"
   ]
  },
  {
   "cell_type": "code",
   "execution_count": 33,
   "metadata": {},
   "outputs": [
    {
     "name": "stdout",
     "output_type": "stream",
     "text": [
      "Average revenue: 0.5152227734433129\n",
      "2.5th percentile: 0.06887322537051702\n",
      "Risk: 1.00%\n",
      "95% confidence interval:  (68873225.37051702, 931547591.2570724)\n"
     ]
    }
   ],
   "source": [
    "state = np.random.RandomState(12345)\n",
    "revenues = []\n",
    "\n",
    "for i in range(1000):\n",
    "    target_subsample = target_df[1].sample(n=500, replace=True, random_state=state)\n",
    "    probs_subsample = predictions_df[1][target_subsample.index]\n",
    "    revenues.append(revenue(target_subsample, probs_subsample))\n",
    "\n",
    "revenues = pd.Series(revenues)\n",
    "lower = revenues.quantile(0.025)\n",
    "mean = revenues.mean()\n",
    "risks = (revenues < 0).mean()\n",
    "risks_percent = risks * 100\n",
    "print(\"Average revenue:\", mean/10**9)\n",
    "print(\"2.5th percentile:\", lower/10**9)\n",
    "print(\"Risk: {:.2f}%\".format(risks_percent))\n",
    "final_revenues = []\n",
    "confidence_interval = (revenues.quantile(0.025), revenues.quantile(0.975))\n",
    "print('95% confidence interval: ', confidence_interval)"
   ]
  },
  {
   "cell_type": "markdown",
   "metadata": {},
   "source": [
    "#### The third region"
   ]
  },
  {
   "cell_type": "code",
   "execution_count": 34,
   "metadata": {},
   "outputs": [
    {
     "name": "stdout",
     "output_type": "stream",
     "text": [
      "Average revenue: 0.43500836278275656\n",
      "2.5th percentile: -0.12888054732978535\n",
      "Risk: 6.40%\n",
      "95% confidence interval: (-128880547.32978535, 969706954.1802661)\n"
     ]
    }
   ],
   "source": [
    "state = np.random.RandomState(12345)\n",
    "revenues = []\n",
    "\n",
    "for i in range(1000):\n",
    "    target_subsample = target_df[2].sample(n=500, replace=True, random_state=state)\n",
    "    probs_subsample = predictions_df[2][target_subsample.index]\n",
    "    revenues.append(revenue(target_subsample, probs_subsample))\n",
    "\n",
    "revenues = pd.Series(revenues)\n",
    "lower = revenues.quantile(0.025)\n",
    "mean = revenues.mean()\n",
    "risks = (revenues < 0).mean()\n",
    "risks_percent = risks * 100\n",
    "print(\"Average revenue:\", mean/10**9)\n",
    "print(\"2.5th percentile:\", lower/10**9)\n",
    "print(\"Risk: {:.2f}%\".format(risks_percent))\n",
    "final_revenues = []\n",
    "confidence_interval = (revenues.quantile(0.025), revenues.quantile(0.975))\n",
    "print('95% confidence interval:', confidence_interval)"
   ]
  },
  {
   "cell_type": "markdown",
   "metadata": {},
   "source": [
    "## Conclusions"
   ]
  },
  {
   "cell_type": "markdown",
   "metadata": {},
   "source": [
    "We analyzed three regions and calculated the cost per well for development and the volume of product at which the costs will be covered. Using the bootstrap technique, we obtained the following values:\n",
    "\n",
    "- The average profit for the first region is 0.52 billion, the risk of the company going negative when developing this region is 6%.\n",
    "- The average profit for the second region is 0.52 billion, the risk of the company going negative when developing this region is 1%.\n",
    "- The average profit for the third region is 0.43 billion, the risk of the company going negative when developing this region is 6.40%.\n",
    "\n",
    "From these indicators, we can conclude that the safest region for development and minimum risk is the second one. However, the quality of models and predictions remains not high. To ensure accuracy, more data should be studied.\n",
    "\n",
    "\n",
    "\n"
   ]
  }
 ],
 "metadata": {
  "ExecuteTimeLog": [
   {
    "duration": 1682,
    "start_time": "2023-02-24T13:55:53.419Z"
   },
   {
    "duration": 2,
    "start_time": "2023-02-24T13:56:07.628Z"
   },
   {
    "duration": 422,
    "start_time": "2023-02-24T13:56:59.651Z"
   },
   {
    "duration": 608,
    "start_time": "2023-02-24T13:57:06.534Z"
   },
   {
    "duration": 312,
    "start_time": "2023-02-24T13:57:13.312Z"
   },
   {
    "duration": 14,
    "start_time": "2023-02-24T13:57:30.416Z"
   },
   {
    "duration": 139,
    "start_time": "2023-02-24T13:57:39.512Z"
   },
   {
    "duration": 11,
    "start_time": "2023-02-24T13:57:47.888Z"
   },
   {
    "duration": 13,
    "start_time": "2023-02-24T13:57:57.676Z"
   },
   {
    "duration": 16,
    "start_time": "2023-02-24T13:58:11.076Z"
   },
   {
    "duration": 14,
    "start_time": "2023-02-24T13:58:25.988Z"
   },
   {
    "duration": 14,
    "start_time": "2023-02-24T13:58:59.049Z"
   },
   {
    "duration": 11,
    "start_time": "2023-02-24T13:59:14.239Z"
   },
   {
    "duration": 11,
    "start_time": "2023-02-24T14:00:05.073Z"
   },
   {
    "duration": 11,
    "start_time": "2023-02-24T14:00:15.696Z"
   },
   {
    "duration": 3,
    "start_time": "2023-02-24T14:01:30.154Z"
   },
   {
    "duration": 461,
    "start_time": "2023-02-24T14:02:17.424Z"
   },
   {
    "duration": 380,
    "start_time": "2023-02-24T14:02:21.518Z"
   },
   {
    "duration": 381,
    "start_time": "2023-02-24T14:02:24.804Z"
   },
   {
    "duration": 72,
    "start_time": "2023-02-24T14:11:14.643Z"
   },
   {
    "duration": 4,
    "start_time": "2023-02-24T14:12:43.453Z"
   },
   {
    "duration": 4,
    "start_time": "2023-02-24T14:12:58.784Z"
   },
   {
    "duration": 4,
    "start_time": "2023-02-24T14:13:06.262Z"
   },
   {
    "duration": 9,
    "start_time": "2023-02-24T14:15:54.162Z"
   },
   {
    "duration": 129,
    "start_time": "2023-02-24T14:16:02.067Z"
   },
   {
    "duration": 15,
    "start_time": "2023-02-24T14:16:13.415Z"
   },
   {
    "duration": 15,
    "start_time": "2023-02-24T14:16:18.416Z"
   },
   {
    "duration": 13,
    "start_time": "2023-02-24T14:16:51.586Z"
   },
   {
    "duration": 13,
    "start_time": "2023-02-24T14:16:54.274Z"
   },
   {
    "duration": 14,
    "start_time": "2023-02-24T14:16:56.517Z"
   },
   {
    "duration": 1742,
    "start_time": "2023-02-24T14:17:08.370Z"
   },
   {
    "duration": 143,
    "start_time": "2023-02-24T14:17:10.114Z"
   },
   {
    "duration": 15,
    "start_time": "2023-02-24T14:17:10.259Z"
   },
   {
    "duration": 20,
    "start_time": "2023-02-24T14:17:10.276Z"
   },
   {
    "duration": 11,
    "start_time": "2023-02-24T14:17:10.298Z"
   },
   {
    "duration": 135,
    "start_time": "2023-02-24T14:17:10.310Z"
   },
   {
    "duration": 8,
    "start_time": "2023-02-24T14:17:10.449Z"
   },
   {
    "duration": 16,
    "start_time": "2023-02-24T14:17:10.459Z"
   },
   {
    "duration": 9,
    "start_time": "2023-02-24T14:17:10.477Z"
   },
   {
    "duration": 352,
    "start_time": "2023-02-24T14:17:10.487Z"
   },
   {
    "duration": 9,
    "start_time": "2023-02-24T14:17:10.840Z"
   },
   {
    "duration": 16,
    "start_time": "2023-02-24T14:17:10.851Z"
   },
   {
    "duration": 10,
    "start_time": "2023-02-24T14:17:10.869Z"
   },
   {
    "duration": 356,
    "start_time": "2023-02-24T14:17:10.882Z"
   },
   {
    "duration": 361,
    "start_time": "2023-02-24T14:17:11.240Z"
   },
   {
    "duration": 388,
    "start_time": "2023-02-24T14:17:11.603Z"
   },
   {
    "duration": 5,
    "start_time": "2023-02-24T14:17:11.992Z"
   },
   {
    "duration": 16,
    "start_time": "2023-02-24T14:17:11.998Z"
   },
   {
    "duration": 7,
    "start_time": "2023-02-24T14:17:12.016Z"
   },
   {
    "duration": 14,
    "start_time": "2023-02-24T14:17:12.025Z"
   },
   {
    "duration": 12,
    "start_time": "2023-02-24T14:17:29.499Z"
   },
   {
    "duration": 10,
    "start_time": "2023-02-24T14:17:44.591Z"
   },
   {
    "duration": 11,
    "start_time": "2023-02-24T14:22:18.080Z"
   },
   {
    "duration": 225,
    "start_time": "2023-02-24T15:00:08.255Z"
   },
   {
    "duration": 10,
    "start_time": "2023-02-24T15:22:21.691Z"
   },
   {
    "duration": 10,
    "start_time": "2023-02-24T15:22:46.906Z"
   },
   {
    "duration": 18,
    "start_time": "2023-02-24T15:23:01.604Z"
   },
   {
    "duration": 4,
    "start_time": "2023-02-24T15:23:57.110Z"
   },
   {
    "duration": 6,
    "start_time": "2023-02-24T15:24:06.779Z"
   },
   {
    "duration": 4,
    "start_time": "2023-02-24T15:24:23.590Z"
   },
   {
    "duration": 4,
    "start_time": "2023-02-24T15:24:27.310Z"
   },
   {
    "duration": 4,
    "start_time": "2023-02-24T15:24:31.711Z"
   },
   {
    "duration": 4,
    "start_time": "2023-02-24T15:24:58.978Z"
   },
   {
    "duration": 5,
    "start_time": "2023-02-24T15:25:08.947Z"
   },
   {
    "duration": 4,
    "start_time": "2023-02-24T15:25:17.456Z"
   },
   {
    "duration": 5,
    "start_time": "2023-02-24T15:25:26.493Z"
   },
   {
    "duration": 29,
    "start_time": "2023-02-24T15:31:50.681Z"
   },
   {
    "duration": 28,
    "start_time": "2023-02-24T15:32:02.116Z"
   },
   {
    "duration": 1464,
    "start_time": "2023-02-24T15:32:20.656Z"
   },
   {
    "duration": 143,
    "start_time": "2023-02-24T15:32:22.122Z"
   },
   {
    "duration": 13,
    "start_time": "2023-02-24T15:32:22.267Z"
   },
   {
    "duration": 19,
    "start_time": "2023-02-24T15:32:22.282Z"
   },
   {
    "duration": 10,
    "start_time": "2023-02-24T15:32:22.302Z"
   },
   {
    "duration": 130,
    "start_time": "2023-02-24T15:32:22.314Z"
   },
   {
    "duration": 10,
    "start_time": "2023-02-24T15:32:22.446Z"
   },
   {
    "duration": 21,
    "start_time": "2023-02-24T15:32:22.457Z"
   },
   {
    "duration": 10,
    "start_time": "2023-02-24T15:32:22.479Z"
   },
   {
    "duration": 387,
    "start_time": "2023-02-24T15:32:22.492Z"
   },
   {
    "duration": 11,
    "start_time": "2023-02-24T15:32:22.881Z"
   },
   {
    "duration": 19,
    "start_time": "2023-02-24T15:32:22.894Z"
   },
   {
    "duration": 11,
    "start_time": "2023-02-24T15:32:22.915Z"
   },
   {
    "duration": 405,
    "start_time": "2023-02-24T15:32:22.928Z"
   },
   {
    "duration": 366,
    "start_time": "2023-02-24T15:32:23.335Z"
   },
   {
    "duration": 402,
    "start_time": "2023-02-24T15:32:23.703Z"
   },
   {
    "duration": 5,
    "start_time": "2023-02-24T15:32:24.107Z"
   },
   {
    "duration": 8,
    "start_time": "2023-02-24T15:32:24.113Z"
   },
   {
    "duration": 10,
    "start_time": "2023-02-24T15:32:24.123Z"
   },
   {
    "duration": 20,
    "start_time": "2023-02-24T15:32:24.134Z"
   },
   {
    "duration": 19,
    "start_time": "2023-02-24T15:32:24.155Z"
   },
   {
    "duration": 24,
    "start_time": "2023-02-24T15:32:24.176Z"
   },
   {
    "duration": 17,
    "start_time": "2023-02-24T15:32:24.202Z"
   },
   {
    "duration": 13,
    "start_time": "2023-02-24T15:32:24.221Z"
   },
   {
    "duration": 11,
    "start_time": "2023-02-24T15:32:24.236Z"
   },
   {
    "duration": 14,
    "start_time": "2023-02-24T15:32:24.249Z"
   },
   {
    "duration": 4,
    "start_time": "2023-02-24T15:32:24.264Z"
   },
   {
    "duration": 4,
    "start_time": "2023-02-24T15:32:24.272Z"
   },
   {
    "duration": 22,
    "start_time": "2023-02-24T15:32:24.278Z"
   },
   {
    "duration": 4,
    "start_time": "2023-02-24T15:32:24.301Z"
   },
   {
    "duration": 12,
    "start_time": "2023-02-24T15:32:24.307Z"
   },
   {
    "duration": 167,
    "start_time": "2023-02-24T15:32:24.321Z"
   },
   {
    "duration": 18,
    "start_time": "2023-02-24T15:34:32.808Z"
   },
   {
    "duration": 10,
    "start_time": "2023-02-24T15:36:36.931Z"
   },
   {
    "duration": 1181,
    "start_time": "2023-02-24T15:36:57.388Z"
   },
   {
    "duration": 105,
    "start_time": "2023-02-24T15:37:30.406Z"
   },
   {
    "duration": 1177,
    "start_time": "2023-02-24T15:39:26.013Z"
   },
   {
    "duration": 12,
    "start_time": "2023-02-24T15:39:51.179Z"
   },
   {
    "duration": 11,
    "start_time": "2023-02-24T15:40:03.624Z"
   },
   {
    "duration": 8,
    "start_time": "2023-02-24T15:40:37.763Z"
   },
   {
    "duration": 21,
    "start_time": "2023-02-24T15:41:59.115Z"
   },
   {
    "duration": 1524,
    "start_time": "2023-02-24T15:42:30.293Z"
   },
   {
    "duration": 176,
    "start_time": "2023-02-24T15:42:31.819Z"
   },
   {
    "duration": 18,
    "start_time": "2023-02-24T15:42:31.997Z"
   },
   {
    "duration": 30,
    "start_time": "2023-02-24T15:42:32.018Z"
   },
   {
    "duration": 12,
    "start_time": "2023-02-24T15:42:32.051Z"
   },
   {
    "duration": 144,
    "start_time": "2023-02-24T15:42:32.066Z"
   },
   {
    "duration": 12,
    "start_time": "2023-02-24T15:42:32.212Z"
   },
   {
    "duration": 26,
    "start_time": "2023-02-24T15:42:32.226Z"
   },
   {
    "duration": 11,
    "start_time": "2023-02-24T15:42:32.254Z"
   },
   {
    "duration": 383,
    "start_time": "2023-02-24T15:42:32.268Z"
   },
   {
    "duration": 10,
    "start_time": "2023-02-24T15:42:32.653Z"
   },
   {
    "duration": 23,
    "start_time": "2023-02-24T15:42:32.664Z"
   },
   {
    "duration": 11,
    "start_time": "2023-02-24T15:42:32.689Z"
   },
   {
    "duration": 406,
    "start_time": "2023-02-24T15:42:32.702Z"
   },
   {
    "duration": 393,
    "start_time": "2023-02-24T15:42:33.110Z"
   },
   {
    "duration": 390,
    "start_time": "2023-02-24T15:42:33.505Z"
   },
   {
    "duration": 4,
    "start_time": "2023-02-24T15:42:33.896Z"
   },
   {
    "duration": 8,
    "start_time": "2023-02-24T15:42:33.902Z"
   },
   {
    "duration": 8,
    "start_time": "2023-02-24T15:42:33.912Z"
   },
   {
    "duration": 16,
    "start_time": "2023-02-24T15:42:33.921Z"
   },
   {
    "duration": 8,
    "start_time": "2023-02-24T15:42:33.948Z"
   },
   {
    "duration": 12,
    "start_time": "2023-02-24T15:42:33.958Z"
   },
   {
    "duration": 241,
    "start_time": "2023-02-24T15:42:33.972Z"
   },
   {
    "duration": 0,
    "start_time": "2023-02-24T15:42:34.215Z"
   },
   {
    "duration": 0,
    "start_time": "2023-02-24T15:42:34.217Z"
   },
   {
    "duration": 0,
    "start_time": "2023-02-24T15:42:34.218Z"
   },
   {
    "duration": 0,
    "start_time": "2023-02-24T15:42:34.220Z"
   },
   {
    "duration": 0,
    "start_time": "2023-02-24T15:42:34.221Z"
   },
   {
    "duration": 0,
    "start_time": "2023-02-24T15:42:34.222Z"
   },
   {
    "duration": 0,
    "start_time": "2023-02-24T15:42:34.223Z"
   },
   {
    "duration": 0,
    "start_time": "2023-02-24T15:42:34.225Z"
   },
   {
    "duration": 26,
    "start_time": "2023-02-24T15:43:16.018Z"
   },
   {
    "duration": 16,
    "start_time": "2023-02-24T15:45:10.717Z"
   },
   {
    "duration": 15,
    "start_time": "2023-02-24T15:48:38.854Z"
   },
   {
    "duration": 9,
    "start_time": "2023-02-24T15:48:45.779Z"
   },
   {
    "duration": 4,
    "start_time": "2023-02-24T15:48:57.398Z"
   },
   {
    "duration": 4,
    "start_time": "2023-02-24T15:49:38.166Z"
   },
   {
    "duration": 4,
    "start_time": "2023-02-24T15:50:15.461Z"
   },
   {
    "duration": 10,
    "start_time": "2023-02-24T15:50:46.821Z"
   },
   {
    "duration": 16,
    "start_time": "2023-02-24T15:50:51.325Z"
   },
   {
    "duration": 7,
    "start_time": "2023-02-24T15:50:52.944Z"
   },
   {
    "duration": 13,
    "start_time": "2023-02-24T15:51:39.730Z"
   },
   {
    "duration": 3,
    "start_time": "2023-02-24T15:51:45.569Z"
   },
   {
    "duration": 4,
    "start_time": "2023-02-24T15:51:58.761Z"
   },
   {
    "duration": 14,
    "start_time": "2023-02-24T15:52:29.689Z"
   },
   {
    "duration": 3,
    "start_time": "2023-02-24T15:52:39.285Z"
   },
   {
    "duration": 4,
    "start_time": "2023-02-24T15:52:40.775Z"
   },
   {
    "duration": 21,
    "start_time": "2023-02-24T15:55:45.368Z"
   },
   {
    "duration": 15,
    "start_time": "2023-02-24T15:56:30.929Z"
   },
   {
    "duration": 23,
    "start_time": "2023-02-24T15:58:03.297Z"
   },
   {
    "duration": 1436,
    "start_time": "2023-02-24T16:00:14.386Z"
   },
   {
    "duration": 142,
    "start_time": "2023-02-24T16:00:15.824Z"
   },
   {
    "duration": 13,
    "start_time": "2023-02-24T16:00:15.968Z"
   },
   {
    "duration": 42,
    "start_time": "2023-02-24T16:00:15.983Z"
   },
   {
    "duration": 40,
    "start_time": "2023-02-24T16:00:16.027Z"
   },
   {
    "duration": 130,
    "start_time": "2023-02-24T16:00:16.069Z"
   },
   {
    "duration": 9,
    "start_time": "2023-02-24T16:00:16.200Z"
   },
   {
    "duration": 49,
    "start_time": "2023-02-24T16:00:16.211Z"
   },
   {
    "duration": 28,
    "start_time": "2023-02-24T16:00:16.261Z"
   },
   {
    "duration": 393,
    "start_time": "2023-02-24T16:00:16.293Z"
   },
   {
    "duration": 9,
    "start_time": "2023-02-24T16:00:16.688Z"
   },
   {
    "duration": 52,
    "start_time": "2023-02-24T16:00:16.699Z"
   },
   {
    "duration": 38,
    "start_time": "2023-02-24T16:00:16.754Z"
   },
   {
    "duration": 420,
    "start_time": "2023-02-24T16:00:16.793Z"
   },
   {
    "duration": 377,
    "start_time": "2023-02-24T16:00:17.215Z"
   },
   {
    "duration": 375,
    "start_time": "2023-02-24T16:00:17.594Z"
   },
   {
    "duration": 5,
    "start_time": "2023-02-24T16:00:17.971Z"
   },
   {
    "duration": 11,
    "start_time": "2023-02-24T16:00:17.977Z"
   },
   {
    "duration": 7,
    "start_time": "2023-02-24T16:00:17.989Z"
   },
   {
    "duration": 13,
    "start_time": "2023-02-24T16:00:17.997Z"
   },
   {
    "duration": 13,
    "start_time": "2023-02-24T16:00:18.012Z"
   },
   {
    "duration": 26,
    "start_time": "2023-02-24T16:00:18.027Z"
   },
   {
    "duration": 30,
    "start_time": "2023-02-24T16:00:18.054Z"
   },
   {
    "duration": 4,
    "start_time": "2023-02-24T16:00:18.086Z"
   },
   {
    "duration": 7,
    "start_time": "2023-02-24T16:00:18.091Z"
   },
   {
    "duration": 18,
    "start_time": "2023-02-24T16:00:18.099Z"
   },
   {
    "duration": 4,
    "start_time": "2023-02-24T16:00:18.118Z"
   },
   {
    "duration": 4,
    "start_time": "2023-02-24T16:00:18.148Z"
   },
   {
    "duration": 18,
    "start_time": "2023-02-24T16:00:18.154Z"
   },
   {
    "duration": 4,
    "start_time": "2023-02-24T16:00:18.173Z"
   },
   {
    "duration": 5,
    "start_time": "2023-02-24T16:00:18.178Z"
   },
   {
    "duration": 3302,
    "start_time": "2023-02-28T08:10:46.298Z"
   },
   {
    "duration": 131,
    "start_time": "2023-02-28T08:10:49.602Z"
   },
   {
    "duration": 13,
    "start_time": "2023-02-28T08:10:49.734Z"
   },
   {
    "duration": 18,
    "start_time": "2023-02-28T08:10:49.749Z"
   },
   {
    "duration": 11,
    "start_time": "2023-02-28T08:10:49.769Z"
   },
   {
    "duration": 124,
    "start_time": "2023-02-28T08:10:49.782Z"
   },
   {
    "duration": 13,
    "start_time": "2023-02-28T08:10:49.907Z"
   },
   {
    "duration": 23,
    "start_time": "2023-02-28T08:10:49.921Z"
   },
   {
    "duration": 10,
    "start_time": "2023-02-28T08:10:49.946Z"
   },
   {
    "duration": 369,
    "start_time": "2023-02-28T08:10:49.957Z"
   },
   {
    "duration": 9,
    "start_time": "2023-02-28T08:10:50.327Z"
   },
   {
    "duration": 19,
    "start_time": "2023-02-28T08:10:50.338Z"
   },
   {
    "duration": 9,
    "start_time": "2023-02-28T08:10:50.358Z"
   },
   {
    "duration": 419,
    "start_time": "2023-02-28T08:10:50.370Z"
   },
   {
    "duration": 364,
    "start_time": "2023-02-28T08:10:50.790Z"
   },
   {
    "duration": 399,
    "start_time": "2023-02-28T08:10:51.156Z"
   },
   {
    "duration": 4,
    "start_time": "2023-02-28T08:10:51.556Z"
   },
   {
    "duration": 10,
    "start_time": "2023-02-28T08:10:51.561Z"
   },
   {
    "duration": 8,
    "start_time": "2023-02-28T08:10:51.573Z"
   },
   {
    "duration": 23,
    "start_time": "2023-02-28T08:10:51.582Z"
   },
   {
    "duration": 11,
    "start_time": "2023-02-28T08:10:51.607Z"
   },
   {
    "duration": 19,
    "start_time": "2023-02-28T08:10:51.620Z"
   },
   {
    "duration": 667,
    "start_time": "2023-02-28T08:10:51.640Z"
   },
   {
    "duration": 100,
    "start_time": "2023-02-28T08:10:52.309Z"
   },
   {
    "duration": 8,
    "start_time": "2023-02-28T08:10:52.411Z"
   },
   {
    "duration": 7,
    "start_time": "2023-02-28T08:10:52.420Z"
   },
   {
    "duration": 9,
    "start_time": "2023-02-28T08:10:52.429Z"
   },
   {
    "duration": 23,
    "start_time": "2023-02-28T08:10:52.440Z"
   },
   {
    "duration": 6,
    "start_time": "2023-02-28T08:16:55.813Z"
   },
   {
    "duration": 12,
    "start_time": "2023-02-28T08:16:58.880Z"
   },
   {
    "duration": 6,
    "start_time": "2023-02-28T08:17:33.585Z"
   },
   {
    "duration": 163,
    "start_time": "2023-02-28T08:17:34.580Z"
   },
   {
    "duration": 4,
    "start_time": "2023-02-28T08:17:39.436Z"
   },
   {
    "duration": 37,
    "start_time": "2023-02-28T08:17:41.106Z"
   },
   {
    "duration": 4,
    "start_time": "2023-02-28T08:18:01.187Z"
   },
   {
    "duration": 24,
    "start_time": "2023-02-28T08:18:01.874Z"
   },
   {
    "duration": 3,
    "start_time": "2023-02-28T08:18:06.342Z"
   },
   {
    "duration": 22,
    "start_time": "2023-02-28T08:18:07.197Z"
   },
   {
    "duration": 9,
    "start_time": "2023-02-28T08:19:49.635Z"
   },
   {
    "duration": 11,
    "start_time": "2023-02-28T08:19:50.542Z"
   },
   {
    "duration": 8,
    "start_time": "2023-02-28T08:19:54.963Z"
   },
   {
    "duration": 4,
    "start_time": "2023-02-28T08:24:16.339Z"
   },
   {
    "duration": 14,
    "start_time": "2023-02-28T08:24:16.660Z"
   }
  ],
  "kernelspec": {
   "display_name": "Python 3 (ipykernel)",
   "language": "python",
   "name": "python3"
  },
  "language_info": {
   "codemirror_mode": {
    "name": "ipython",
    "version": 3
   },
   "file_extension": ".py",
   "mimetype": "text/x-python",
   "name": "python",
   "nbconvert_exporter": "python",
   "pygments_lexer": "ipython3",
   "version": "3.9.12"
  },
  "toc": {
   "base_numbering": 1,
   "nav_menu": {},
   "number_sections": true,
   "sideBar": true,
   "skip_h1_title": true,
   "title_cell": "Table of Contents",
   "title_sidebar": "Contents",
   "toc_cell": false,
   "toc_position": {},
   "toc_section_display": true,
   "toc_window_display": false
  }
 },
 "nbformat": 4,
 "nbformat_minor": 2
}

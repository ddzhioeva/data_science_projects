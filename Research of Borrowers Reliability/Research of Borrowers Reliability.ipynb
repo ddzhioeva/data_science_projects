{
 "cells": [
  {
   "cell_type": "markdown",
   "id": "f60ca370",
   "metadata": {},
   "source": [
    "# Research of Borrowers Reliability"
   ]
  },
  {
   "cell_type": "markdown",
   "id": "703661f5",
   "metadata": {},
   "source": [
    "## Project Description "
   ]
  },
  {
   "cell_type": "markdown",
   "id": "3defdd89",
   "metadata": {},
   "source": [
    "The client is the Credit department of the bank. The tasks consist of recognizing whether the marital status and the number of children of the client affect the repayment of the loan on time. Input data from the bank - statistics on the solvency of customers. The study's results will be considered when building a credit scoring model - a particular system that assesses the ability of a potential borrower to repay a loan to a bank."
   ]
  },
  {
   "cell_type": "markdown",
   "id": "bd0385a7",
   "metadata": {},
   "source": [
    "## Objectives\n",
    "\n",
    "The objective of this project is to:\n",
    "\n",
    "Prepare a report for a bank's loan division by analyzing a borrower's risk of defaulting.\n",
    "\n",
    "Apply Data Preprocessing to a real-life analytical case study."
   ]
  },
  {
   "cell_type": "markdown",
   "id": "b6d3ff2d",
   "metadata": {},
   "source": [
    "## 1. Read CSV and import Libraries"
   ]
  },
  {
   "cell_type": "code",
   "execution_count": 1,
   "id": "733ced4e",
   "metadata": {},
   "outputs": [],
   "source": [
    "import pandas as pd #import Pandas"
   ]
  },
  {
   "cell_type": "code",
   "execution_count": 2,
   "id": "ca678f35",
   "metadata": {},
   "outputs": [],
   "source": [
    "import seaborn as sns #import Seaborn"
   ]
  },
  {
   "cell_type": "code",
   "execution_count": 3,
   "id": "42cfb2b2",
   "metadata": {},
   "outputs": [],
   "source": [
    "import matplotlib.pyplot as plt #import Matplotlib"
   ]
  },
  {
   "cell_type": "code",
   "execution_count": 4,
   "id": "002f0e37",
   "metadata": {},
   "outputs": [],
   "source": [
    "try:\n",
    "    data = pd.read_csv('/datasets/data.csv')\n",
    "except:\n",
    "    data = pd.read_csv('https://code.s3.yandex.net//datasets/data.csv')"
   ]
  },
  {
   "cell_type": "markdown",
   "id": "3dd505fe",
   "metadata": {},
   "source": [
    "### 1.1. Return the first 10 rows for the object based on position. "
   ]
  },
  {
   "cell_type": "code",
   "execution_count": 5,
   "id": "d5bd8377",
   "metadata": {},
   "outputs": [
    {
     "name": "stdout",
     "output_type": "stream",
     "text": [
      "   children  days_employed  dob_years education  education_id  \\\n",
      "0         1   -8437.673028         42    высшее             0   \n",
      "1         1   -4024.803754         36   среднее             1   \n",
      "2         0   -5623.422610         33   Среднее             1   \n",
      "3         3   -4124.747207         32   среднее             1   \n",
      "4         0  340266.072047         53   среднее             1   \n",
      "5         0    -926.185831         27    высшее             0   \n",
      "6         0   -2879.202052         43    высшее             0   \n",
      "7         0    -152.779569         50   СРЕДНЕЕ             1   \n",
      "8         2   -6929.865299         35    ВЫСШЕЕ             0   \n",
      "9         0   -2188.756445         41   среднее             1   \n",
      "\n",
      "      family_status  family_status_id gender income_type  debt   total_income  \\\n",
      "0   женат / замужем                 0      F   сотрудник     0  253875.639453   \n",
      "1   женат / замужем                 0      F   сотрудник     0  112080.014102   \n",
      "2   женат / замужем                 0      M   сотрудник     0  145885.952297   \n",
      "3   женат / замужем                 0      M   сотрудник     0  267628.550329   \n",
      "4  гражданский брак                 1      F   пенсионер     0  158616.077870   \n",
      "5  гражданский брак                 1      M   компаньон     0  255763.565419   \n",
      "6   женат / замужем                 0      F   компаньон     0  240525.971920   \n",
      "7   женат / замужем                 0      M   сотрудник     0  135823.934197   \n",
      "8  гражданский брак                 1      F   сотрудник     0   95856.832424   \n",
      "9   женат / замужем                 0      M   сотрудник     0  144425.938277   \n",
      "\n",
      "                      purpose  \n",
      "0               покупка жилья  \n",
      "1     приобретение автомобиля  \n",
      "2               покупка жилья  \n",
      "3  дополнительное образование  \n",
      "4             сыграть свадьбу  \n",
      "5               покупка жилья  \n",
      "6           операции с жильем  \n",
      "7                 образование  \n",
      "8       на проведение свадьбы  \n",
      "9     покупка жилья для семьи  \n"
     ]
    }
   ],
   "source": [
    "print(data.head(10))"
   ]
  },
  {
   "cell_type": "markdown",
   "id": "5635d513",
   "metadata": {},
   "source": [
    "### 1.2. Calculate the statistical data and get a concise summary of dataframe. "
   ]
  },
  {
   "cell_type": "code",
   "execution_count": 6,
   "id": "1fa960b3",
   "metadata": {},
   "outputs": [
    {
     "data": {
      "text/html": [
       "<div>\n",
       "<style scoped>\n",
       "    .dataframe tbody tr th:only-of-type {\n",
       "        vertical-align: middle;\n",
       "    }\n",
       "\n",
       "    .dataframe tbody tr th {\n",
       "        vertical-align: top;\n",
       "    }\n",
       "\n",
       "    .dataframe thead th {\n",
       "        text-align: right;\n",
       "    }\n",
       "</style>\n",
       "<table border=\"1\" class=\"dataframe\">\n",
       "  <thead>\n",
       "    <tr style=\"text-align: right;\">\n",
       "      <th></th>\n",
       "      <th>children</th>\n",
       "      <th>days_employed</th>\n",
       "      <th>dob_years</th>\n",
       "      <th>education_id</th>\n",
       "      <th>family_status_id</th>\n",
       "      <th>debt</th>\n",
       "      <th>total_income</th>\n",
       "    </tr>\n",
       "  </thead>\n",
       "  <tbody>\n",
       "    <tr>\n",
       "      <th>count</th>\n",
       "      <td>21525.000000</td>\n",
       "      <td>19351.000000</td>\n",
       "      <td>21525.000000</td>\n",
       "      <td>21525.000000</td>\n",
       "      <td>21525.000000</td>\n",
       "      <td>21525.000000</td>\n",
       "      <td>1.935100e+04</td>\n",
       "    </tr>\n",
       "    <tr>\n",
       "      <th>mean</th>\n",
       "      <td>0.538908</td>\n",
       "      <td>63046.497661</td>\n",
       "      <td>43.293380</td>\n",
       "      <td>0.817236</td>\n",
       "      <td>0.972544</td>\n",
       "      <td>0.080883</td>\n",
       "      <td>1.674223e+05</td>\n",
       "    </tr>\n",
       "    <tr>\n",
       "      <th>std</th>\n",
       "      <td>1.381587</td>\n",
       "      <td>140827.311974</td>\n",
       "      <td>12.574584</td>\n",
       "      <td>0.548138</td>\n",
       "      <td>1.420324</td>\n",
       "      <td>0.272661</td>\n",
       "      <td>1.029716e+05</td>\n",
       "    </tr>\n",
       "    <tr>\n",
       "      <th>min</th>\n",
       "      <td>-1.000000</td>\n",
       "      <td>-18388.949901</td>\n",
       "      <td>0.000000</td>\n",
       "      <td>0.000000</td>\n",
       "      <td>0.000000</td>\n",
       "      <td>0.000000</td>\n",
       "      <td>2.066726e+04</td>\n",
       "    </tr>\n",
       "    <tr>\n",
       "      <th>25%</th>\n",
       "      <td>0.000000</td>\n",
       "      <td>-2747.423625</td>\n",
       "      <td>33.000000</td>\n",
       "      <td>1.000000</td>\n",
       "      <td>0.000000</td>\n",
       "      <td>0.000000</td>\n",
       "      <td>1.030532e+05</td>\n",
       "    </tr>\n",
       "    <tr>\n",
       "      <th>50%</th>\n",
       "      <td>0.000000</td>\n",
       "      <td>-1203.369529</td>\n",
       "      <td>42.000000</td>\n",
       "      <td>1.000000</td>\n",
       "      <td>0.000000</td>\n",
       "      <td>0.000000</td>\n",
       "      <td>1.450179e+05</td>\n",
       "    </tr>\n",
       "    <tr>\n",
       "      <th>75%</th>\n",
       "      <td>1.000000</td>\n",
       "      <td>-291.095954</td>\n",
       "      <td>53.000000</td>\n",
       "      <td>1.000000</td>\n",
       "      <td>1.000000</td>\n",
       "      <td>0.000000</td>\n",
       "      <td>2.034351e+05</td>\n",
       "    </tr>\n",
       "    <tr>\n",
       "      <th>max</th>\n",
       "      <td>20.000000</td>\n",
       "      <td>401755.400475</td>\n",
       "      <td>75.000000</td>\n",
       "      <td>4.000000</td>\n",
       "      <td>4.000000</td>\n",
       "      <td>1.000000</td>\n",
       "      <td>2.265604e+06</td>\n",
       "    </tr>\n",
       "  </tbody>\n",
       "</table>\n",
       "</div>"
      ],
      "text/plain": [
       "           children  days_employed     dob_years  education_id  \\\n",
       "count  21525.000000   19351.000000  21525.000000  21525.000000   \n",
       "mean       0.538908   63046.497661     43.293380      0.817236   \n",
       "std        1.381587  140827.311974     12.574584      0.548138   \n",
       "min       -1.000000  -18388.949901      0.000000      0.000000   \n",
       "25%        0.000000   -2747.423625     33.000000      1.000000   \n",
       "50%        0.000000   -1203.369529     42.000000      1.000000   \n",
       "75%        1.000000    -291.095954     53.000000      1.000000   \n",
       "max       20.000000  401755.400475     75.000000      4.000000   \n",
       "\n",
       "       family_status_id          debt  total_income  \n",
       "count      21525.000000  21525.000000  1.935100e+04  \n",
       "mean           0.972544      0.080883  1.674223e+05  \n",
       "std            1.420324      0.272661  1.029716e+05  \n",
       "min            0.000000      0.000000  2.066726e+04  \n",
       "25%            0.000000      0.000000  1.030532e+05  \n",
       "50%            0.000000      0.000000  1.450179e+05  \n",
       "75%            1.000000      0.000000  2.034351e+05  \n",
       "max            4.000000      1.000000  2.265604e+06  "
      ]
     },
     "execution_count": 6,
     "metadata": {},
     "output_type": "execute_result"
    }
   ],
   "source": [
    "data.describe()"
   ]
  },
  {
   "cell_type": "code",
   "execution_count": 7,
   "id": "7188c819",
   "metadata": {},
   "outputs": [
    {
     "name": "stdout",
     "output_type": "stream",
     "text": [
      "<class 'pandas.core.frame.DataFrame'>\n",
      "RangeIndex: 21525 entries, 0 to 21524\n",
      "Data columns (total 12 columns):\n",
      " #   Column            Non-Null Count  Dtype  \n",
      "---  ------            --------------  -----  \n",
      " 0   children          21525 non-null  int64  \n",
      " 1   days_employed     19351 non-null  float64\n",
      " 2   dob_years         21525 non-null  int64  \n",
      " 3   education         21525 non-null  object \n",
      " 4   education_id      21525 non-null  int64  \n",
      " 5   family_status     21525 non-null  object \n",
      " 6   family_status_id  21525 non-null  int64  \n",
      " 7   gender            21525 non-null  object \n",
      " 8   income_type       21525 non-null  object \n",
      " 9   debt              21525 non-null  int64  \n",
      " 10  total_income      19351 non-null  float64\n",
      " 11  purpose           21525 non-null  object \n",
      "dtypes: float64(2), int64(5), object(5)\n",
      "memory usage: 2.0+ MB\n"
     ]
    }
   ],
   "source": [
    "data.info()"
   ]
  },
  {
   "cell_type": "markdown",
   "id": "d3f55ff3",
   "metadata": {},
   "source": [
    "### 1.3. Subsidiary Conclusion"
   ]
  },
  {
   "cell_type": "markdown",
   "id": "0782e3c9",
   "metadata": {},
   "source": [
    "The data set analysis depicts that the columns have different numeric types as integers, float, and objects. Additionally, the result of the previous processing demonstrates the necessity of checking the missing values."
   ]
  },
  {
   "cell_type": "markdown",
   "id": "388e675a",
   "metadata": {},
   "source": [
    "### 1.3.1 Column Descriptions"
   ]
  },
  {
   "cell_type": "markdown",
   "id": "49effae7",
   "metadata": {},
   "source": [
    "**children** — the number of children per family\n",
    "\n",
    "**days_employed** — the entire duration of the career counted by days \n",
    "\n",
    "**dob_years** — the age per years \n",
    "\n",
    "**education** — customer's educational level\n",
    "\n",
    "**education_id** — an id of educational level\n",
    "\n",
    "**family_status** — family status \n",
    "\n",
    "**family_status_id** — an id of family status\n",
    "\n",
    "**gender** — gender \n",
    "\n",
    "**income_type** — an income type \n",
    "\n",
    "**debt** — a presence of the debt\n",
    "\n",
    "**total_income** — total income per a year\n",
    "\n",
    "**purpose** — a purpose of the loan"
   ]
  },
  {
   "cell_type": "markdown",
   "id": "728d50b4",
   "metadata": {},
   "source": [
    "## 2. Pre-processing of the Data"
   ]
  },
  {
   "cell_type": "markdown",
   "id": "59992a50",
   "metadata": {},
   "source": [
    "### 2.1 Removal the missing values "
   ]
  },
  {
   "cell_type": "code",
   "execution_count": 8,
   "id": "2ddb674c",
   "metadata": {},
   "outputs": [
    {
     "name": "stdout",
     "output_type": "stream",
     "text": [
      "children               0\n",
      "days_employed       2174\n",
      "dob_years              0\n",
      "education              0\n",
      "education_id           0\n",
      "family_status          0\n",
      "family_status_id       0\n",
      "gender                 0\n",
      "income_type            0\n",
      "debt                   0\n",
      "total_income        2174\n",
      "purpose                0\n",
      "dtype: int64\n"
     ]
    }
   ],
   "source": [
    "print(data.isnull().sum())# check Na"
   ]
  },
  {
   "cell_type": "markdown",
   "id": "3846036f",
   "metadata": {},
   "source": [
    "### 2.2 Correlation research and visialization"
   ]
  },
  {
   "cell_type": "code",
   "execution_count": 9,
   "id": "04330caf",
   "metadata": {},
   "outputs": [
    {
     "data": {
      "image/png": "[encoded data removed]",
      "text/plain": [
       "<Figure size 1080x936 with 2 Axes>"
      ]
     },
     "metadata": {
      "needs_background": "light"
     },
     "output_type": "display_data"
    }
   ],
   "source": [
    "plt.figure(figsize=(15, 13))\n",
    "sns.heatmap(data.corr(), annot=True);"
   ]
  },
  {
   "cell_type": "markdown",
   "id": "e0aa8950",
   "metadata": {},
   "source": [
    "### 2.2.1 Subsidiary Conclusion"
   ]
  },
  {
   "cell_type": "markdown",
   "id": "2e3b7d03",
   "metadata": {},
   "source": [
    "There need to be valued in two columns. One of them is **days_employed**. Another column with missing values, **total_income**, stores income data. The amount of income is most affected by the type of employment. Therefore, we can fill in the gaps in this column with the median value for every kind from the income_type column. For example, for a person with an employment type of employee, the gap in the **total_income** column should be filled with the median income among all records with the same type.\n"
   ]
  },
  {
   "cell_type": "markdown",
   "id": "14fe3301",
   "metadata": {},
   "source": [
    "### 2.3 Replacing missing values with median"
   ]
  },
  {
   "cell_type": "code",
   "execution_count": 10,
   "id": "e77b2bfb",
   "metadata": {},
   "outputs": [
    {
     "name": "stdout",
     "output_type": "stream",
     "text": [
      "children               0\n",
      "days_employed       2174\n",
      "dob_years              0\n",
      "education              0\n",
      "education_id           0\n",
      "family_status          0\n",
      "family_status_id       0\n",
      "gender                 0\n",
      "income_type            0\n",
      "debt                   0\n",
      "total_income           0\n",
      "purpose                0\n",
      "dtype: int64\n"
     ]
    }
   ],
   "source": [
    "total_income_median = data.groupby('income_type')['total_income'].median()\n",
    "for i in data['income_type'].unique():\n",
    "     data.loc[data['income_type'] == i, 'total_income'] = data.loc[data['income_type'] == i, 'total_income'].fillna(total_income_median[i])\n",
    "print(data.isnull().sum())"
   ]
  },
  {
   "cell_type": "markdown",
   "id": "509ec6b6",
   "metadata": {},
   "source": [
    "### 2.3 Processing of abnormal values "
   ]
  },
  {
   "cell_type": "markdown",
   "id": "635e76e1",
   "metadata": {},
   "source": [
    "The Data contains abnormal values (artifacts). An artifact would be the negative number of days of work experience in the **days_employed** column."
   ]
  },
  {
   "cell_type": "code",
   "execution_count": 11,
   "id": "641e639b",
   "metadata": {},
   "outputs": [],
   "source": [
    "data['days_employed'] = data['days_employed'].abs()"
   ]
  },
  {
   "cell_type": "markdown",
   "id": "5fe8d8ff",
   "metadata": {},
   "source": [
    "### 2.3.1 Combing income type and days employed with median "
   ]
  },
  {
   "cell_type": "code",
   "execution_count": 12,
   "id": "8a633e59",
   "metadata": {
    "scrolled": true
   },
   "outputs": [
    {
     "name": "stdout",
     "output_type": "stream",
     "text": [
      "income_type\n",
      "безработный        366413.652744\n",
      "в декрете            3296.759962\n",
      "госслужащий          2689.368353\n",
      "компаньон            1547.382223\n",
      "пенсионер          365213.306266\n",
      "предприниматель       520.848083\n",
      "сотрудник            1574.202821\n",
      "студент               578.751554\n",
      "Name: days_employed, dtype: float64\n"
     ]
    }
   ],
   "source": [
    "days_employed = data.groupby('income_type')['days_employed'].median()\n",
    "print(days_employed)"
   ]
  },
  {
   "cell_type": "markdown",
   "id": "0bd8c2bb",
   "metadata": {},
   "source": [
    "### 2.3.2 Drop the missing values and artifact in \"children\" column"
   ]
  },
  {
   "cell_type": "code",
   "execution_count": 13,
   "id": "6690e312",
   "metadata": {},
   "outputs": [
    {
     "name": "stdout",
     "output_type": "stream",
     "text": [
      "[ 1  0  3  2 -1  4 20  5]\n"
     ]
    }
   ],
   "source": [
    "print(data['children'].unique()) # presence check of artifact"
   ]
  },
  {
   "cell_type": "code",
   "execution_count": 14,
   "id": "1fe45941",
   "metadata": {},
   "outputs": [],
   "source": [
    "data  =  data.loc[(data ['children'] !=  20) & (data ['children']  !=  -1),]"
   ]
  },
  {
   "cell_type": "code",
   "execution_count": 15,
   "id": "ca61485c",
   "metadata": {},
   "outputs": [
    {
     "name": "stdout",
     "output_type": "stream",
     "text": [
      "[1 0 3 2 4 5]\n"
     ]
    }
   ],
   "source": [
    "print(data['children'].unique())"
   ]
  },
  {
   "cell_type": "code",
   "execution_count": 16,
   "id": "15f24cd9",
   "metadata": {},
   "outputs": [
    {
     "name": "stdout",
     "output_type": "stream",
     "text": [
      "children            0\n",
      "days_employed       0\n",
      "dob_years           0\n",
      "education           0\n",
      "education_id        0\n",
      "family_status       0\n",
      "family_status_id    0\n",
      "gender              0\n",
      "income_type         0\n",
      "debt                0\n",
      "total_income        0\n",
      "purpose             0\n",
      "dtype: int64\n"
     ]
    }
   ],
   "source": [
    "median = data.groupby('income_type')['days_employed'].median()\n",
    "for i in data['income_type'].unique():\n",
    "     data.loc[data['income_type'] == i, 'days_employed'] = data.loc[data['income_type'] == i, 'days_employed'].fillna(median[i])\n",
    "print(data.isnull().sum())"
   ]
  },
  {
   "cell_type": "markdown",
   "id": "cafe96fd",
   "metadata": {},
   "source": [
    "### 2.4 Data type replacement"
   ]
  },
  {
   "cell_type": "code",
   "execution_count": 17,
   "id": "f60427dd",
   "metadata": {},
   "outputs": [],
   "source": [
    "data['education'] = data['education'].astype(str).str.lower() #return the lowercase from the given string"
   ]
  },
  {
   "cell_type": "code",
   "execution_count": 18,
   "id": "c8123bd5",
   "metadata": {},
   "outputs": [],
   "source": [
    "data['total_income'] = data['total_income'].astype(int)"
   ]
  },
  {
   "cell_type": "code",
   "execution_count": 19,
   "id": "041129ad",
   "metadata": {},
   "outputs": [
    {
     "name": "stdout",
     "output_type": "stream",
     "text": [
      "71\n"
     ]
    }
   ],
   "source": [
    "print(data.duplicated().sum())"
   ]
  },
  {
   "cell_type": "code",
   "execution_count": 20,
   "id": "7195a790",
   "metadata": {},
   "outputs": [],
   "source": [
    "data = data.drop_duplicates()\n",
    "data = data.reset_index(drop=True) # drop the dublicates andd reset index"
   ]
  },
  {
   "cell_type": "markdown",
   "id": "a54139d9",
   "metadata": {},
   "source": [
    "### 2.5 Subsidiary Conclusions"
   ]
  },
  {
   "cell_type": "markdown",
   "id": "35abab51",
   "metadata": {},
   "source": [
    "From the Data Preprocessing section, we computed the number of missing values per column and the percentage of missing values per column. We can see that 10% of rows are missing days_employed and total_income. Since the type of data with missing values are quantitative, and the data are \"Missing not at random\", we proceed to drop those rows with missing values. We drop missing rows because 10% of missing values would not skew our analysis. We also checked for uniqueness in our dataset. We found out that:\n",
    "\n",
    "**children** have a negative value of -1 so we have to deal with it.\n",
    "\n",
    "**days_employed** have a negative value of days. We have to take the absolute value for our analysis to be accurate education has duplicate data.\n",
    "\n",
    "**gender** has an 'XNA' entry. Since there is no logical way to decide whether that entry is for a male or female, we would have to drop that row.\n",
    "\n",
    "The data type replacement section contains the method primarily used for string handling. Moreover, we can change the days_employed and total_income from floating point value to integer datatype by using the astype() method and the ('int') argument."
   ]
  },
  {
   "cell_type": "markdown",
   "id": "163c8df4",
   "metadata": {},
   "source": [
    "## 3 Data classification"
   ]
  },
  {
   "cell_type": "markdown",
   "id": "42b8356f",
   "metadata": {},
   "source": [
    "### 3.1 Income classification from 'A' to 'E'"
   ]
  },
  {
   "cell_type": "code",
   "execution_count": 21,
   "id": "945b0058",
   "metadata": {},
   "outputs": [],
   "source": [
    "def categorize_income(x):\n",
    "    if x<=30000:\n",
    "        return'E'\n",
    "    elif x>=30001 and x<=50000:\n",
    "        return'D'\n",
    "    elif x>=50001 and x<=200000:\n",
    "        return'C'\n",
    "    elif x>=200001 and x<=1000000:\n",
    "        return'B'\n",
    "    else:\n",
    "        return'A'"
   ]
  },
  {
   "cell_type": "code",
   "execution_count": 22,
   "id": "3ec699a8",
   "metadata": {},
   "outputs": [],
   "source": [
    "data['total_income_category'] = data['total_income'].apply(categorize_income)"
   ]
  },
  {
   "cell_type": "markdown",
   "id": "91110bd5",
   "metadata": {},
   "source": [
    "### 3.2 Purpose of a loan classification and unification "
   ]
  },
  {
   "cell_type": "code",
   "execution_count": 23,
   "id": "20dfc418",
   "metadata": {},
   "outputs": [
    {
     "name": "stdout",
     "output_type": "stream",
     "text": [
      "['покупка жилья' 'приобретение автомобиля' 'дополнительное образование'\n",
      " 'сыграть свадьбу' 'операции с жильем' 'образование'\n",
      " 'на проведение свадьбы' 'покупка жилья для семьи' 'покупка недвижимости'\n",
      " 'покупка коммерческой недвижимости' 'покупка жилой недвижимости'\n",
      " 'строительство собственной недвижимости' 'недвижимость'\n",
      " 'строительство недвижимости' 'на покупку подержанного автомобиля'\n",
      " 'на покупку своего автомобиля' 'операции с коммерческой недвижимостью'\n",
      " 'строительство жилой недвижимости' 'жилье'\n",
      " 'операции со своей недвижимостью' 'автомобили' 'заняться образованием'\n",
      " 'сделка с подержанным автомобилем' 'получение образования' 'автомобиль'\n",
      " 'свадьба' 'получение дополнительного образования' 'покупка своего жилья'\n",
      " 'операции с недвижимостью' 'получение высшего образования'\n",
      " 'свой автомобиль' 'сделка с автомобилем' 'профильное образование'\n",
      " 'высшее образование' 'покупка жилья для сдачи' 'на покупку автомобиля'\n",
      " 'ремонт жилью' 'заняться высшим образованием']\n"
     ]
    }
   ],
   "source": [
    "print(data['purpose'].unique())"
   ]
  },
  {
   "cell_type": "code",
   "execution_count": 24,
   "id": "2d3e5b12",
   "metadata": {},
   "outputs": [],
   "source": [
    "def categorize_purpose(x):\n",
    "    if 'авто' in x:\n",
    "        return 'car loan'\n",
    "    elif 'недвиж' in x:\n",
    "        return 'mortgage'\n",
    "    elif 'жил' in x:\n",
    "        return 'mortgage'\n",
    "    elif 'сва' in x:\n",
    "        return'for a wedding'\n",
    "    elif 'обр' in x:\n",
    "        return'education loan'"
   ]
  },
  {
   "cell_type": "code",
   "execution_count": 25,
   "id": "84774024",
   "metadata": {},
   "outputs": [],
   "source": [
    "data['purpose_category'] = data['purpose'].apply(categorize_purpose)"
   ]
  },
  {
   "cell_type": "markdown",
   "id": "97af913c",
   "metadata": {},
   "source": [
    "### 3.3 Subsidiary Conclusion"
   ]
  },
  {
   "cell_type": "markdown",
   "id": "84169a31",
   "metadata": {},
   "source": [
    "After pre-processing, we find out that the column \"purpose\" comprises the different objects to describe the purposes of a loan. Subsequent analysis claims to combine it into categories as \"car loan\", \"mortgage\", \"loan for a wedding\" and \"education loan\".\n"
   ]
  },
  {
   "cell_type": "markdown",
   "id": "b4469872",
   "metadata": {},
   "source": [
    "## 4 Answers to the business questions "
   ]
  },
  {
   "cell_type": "markdown",
   "id": "c8d4ce70",
   "metadata": {},
   "source": [
    "### 4.1 What is the cause-effect relationships between having kids and repaying a loan on time?\n"
   ]
  },
  {
   "cell_type": "code",
   "execution_count": 26,
   "id": "4212a8b1",
   "metadata": {},
   "outputs": [
    {
     "name": "stdout",
     "output_type": "stream",
     "text": [
      "           debt        ratio\n",
      "          count   sum       \n",
      "children                    \n",
      "0         14091  1063  7.54%\n",
      "1          4808   444  9.23%\n",
      "2          2052   194  9.45%\n",
      "3           330    27  8.18%\n",
      "4            41     4  9.76%\n",
      "5             9     0  0.00%\n"
     ]
    }
   ],
   "source": [
    "data['children'].value_counts()\n",
    "children_total = data.groupby('children').agg({'debt':['count', 'sum']})\n",
    "\n",
    "children_total['ratio'] = (children_total['debt']['sum'] / children_total['debt']['count'])\n",
    "def percent(x):\n",
    "    return \"{0:.2%}\".format(x)\n",
    "children_total['ratio'] = children_total['ratio'].apply(percent)\n",
    "\n",
    "print(children_total)"
   ]
  },
  {
   "cell_type": "markdown",
   "id": "5c1545c7",
   "metadata": {},
   "source": [
    "### 4.1.1 Subsidiary Conclusions"
   ]
  },
  {
   "cell_type": "markdown",
   "id": "d41a8196",
   "metadata": {},
   "source": [
    "Overall, we can obtain that the analysis connected with customers having 5 children is limited by a lack of Data. Based on other records it can be concluded that customers with 1 or 3 kids repay the loans more quickly and successfully than others."
   ]
  },
  {
   "cell_type": "markdown",
   "id": "cb84b169",
   "metadata": {},
   "source": [
    "### 4.2 Is there a relation between marital status and repaying a loan on time?"
   ]
  },
  {
   "cell_type": "code",
   "execution_count": 28,
   "id": "ba64a818",
   "metadata": {},
   "outputs": [],
   "source": [
    "count_debts = data.groupby('family_status')['debt'].count()"
   ]
  },
  {
   "cell_type": "code",
   "execution_count": 29,
   "id": "c42dcdd0",
   "metadata": {},
   "outputs": [],
   "source": [
    "data['count_debts'] = count_debts"
   ]
  },
  {
   "cell_type": "code",
   "execution_count": 34,
   "id": "b34b956f",
   "metadata": {},
   "outputs": [
    {
     "name": "stdout",
     "output_type": "stream",
     "text": [
      "                       amount  count   mean  sum\n",
      "family_status                                   \n",
      "Не женат / не замужем    2796   2796  9.76%  273\n",
      "в разводе                1189   1189  7.06%   84\n",
      "вдовец / вдова            951    951  6.62%   63\n",
      "гражданский брак         4134   4134  9.31%  385\n",
      "женат / замужем         12261  12261  7.56%  927\n"
     ]
    }
   ],
   "source": [
    "fs = data.pivot_table(index = ['family_status'], values='debt', aggfunc = ('mean','count','sum', lambda X:\n",
    "                                                                       X.count()))\n",
    "\n",
    "def percent(x):\n",
    "    return \"{0:.2%}\".format(x)\n",
    "\n",
    "fs['mean'] = fs['mean'].apply(percent)\n",
    "fs = fs.rename(\n",
    "columns={\n",
    "'family_status': 'family status',\n",
    "'<lambda_0>': 'amount',\n",
    "'mean': 'mean',\n",
    "'count': 'count',\n",
    "'sum': 'sum'}\n",
    ")\n",
    "fs.sort_values(by='amount', ascending=False)\n",
    "print(fs.head(10))"
   ]
  },
  {
   "cell_type": "markdown",
   "id": "9bf8328f",
   "metadata": {},
   "source": [
    "### 4.2.1 Subsidiary Conclusions"
   ]
  },
  {
   "cell_type": "markdown",
   "id": "3a2f1341",
   "metadata": {},
   "source": [
    "To sum up, divorced or widowed customers repay loans more frequently than married ones. According to the analysis, divorced customers have no debts accounting for almost 7.6% of the cases, and widowed – 6.62%."
   ]
  },
  {
   "cell_type": "markdown",
   "id": "22558048",
   "metadata": {},
   "source": [
    "### 4.3 Is there a relation between income level and repaying a loan on time?"
   ]
  },
  {
   "cell_type": "code",
   "execution_count": 35,
   "id": "d0e31f6c",
   "metadata": {},
   "outputs": [],
   "source": [
    "data['total_income_category'].value_counts()\n",
    "total_income_category_final = data.groupby('total_income_category').agg({'debt':['count', 'sum']})\n",
    "total_income_category_final['ratio_total_income'] = (total_income_category_final['debt']['sum'] / total_income_category_final['debt']['count'])\n",
    "def percent(x):\n",
    "    return \"{0:.2%}\".format(x)\n",
    "total_income_category_final['ratio_total_income'] = total_income_category_final['ratio_total_income'].apply(percent)"
   ]
  },
  {
   "cell_type": "code",
   "execution_count": 36,
   "id": "bc892551",
   "metadata": {},
   "outputs": [
    {
     "name": "stdout",
     "output_type": "stream",
     "text": [
      "                        debt       ratio_total_income\n",
      "                       count   sum                   \n",
      "total_income_category                                \n",
      "A                         25     2              8.00%\n",
      "B                       5014   354              7.06%\n",
      "C                      15921  1353              8.50%\n",
      "D                        349    21              6.02%\n",
      "E                         22     2              9.09%\n"
     ]
    }
   ],
   "source": [
    "print(total_income_category_final)"
   ]
  },
  {
   "cell_type": "markdown",
   "id": "e933161a",
   "metadata": {},
   "source": [
    "### 4.3.1 Subsidiary Conclusions"
   ]
  },
  {
   "cell_type": "markdown",
   "id": "2acca0c6",
   "metadata": {},
   "source": [
    "We can formulate the rule based on the Data: the lower the income, the less debt. However, the Data are not evenly distributed. People with relatively high incomes take out fewer loans than those whose incomes are in groups B and C. From this point of view, the best cohort - B - is people with incomes above average, but not extremely wealthy."
   ]
  },
  {
   "cell_type": "markdown",
   "id": "66703557",
   "metadata": {},
   "source": [
    "### 4.4 How do different loan purposes affect on-time repayment of the loan?"
   ]
  },
  {
   "cell_type": "code",
   "execution_count": 37,
   "id": "7546e985",
   "metadata": {},
   "outputs": [
    {
     "name": "stdout",
     "output_type": "stream",
     "text": [
      "                   debt       ratio\n",
      "                  count  sum       \n",
      "purpose_category                   \n",
      "car loan           4279  400  9.35%\n",
      "education loan     3988  369  9.25%\n",
      "for a wedding      2313  183  7.91%\n",
      "mortgage          10751  780  7.26%\n"
     ]
    }
   ],
   "source": [
    "data['purpose_category'].value_counts()\n",
    "purpose_total = data.groupby('purpose_category').agg({'debt':['count', 'sum']})\n",
    "\n",
    "purpose_total['ratio'] = (purpose_total['debt']['sum'] / purpose_total['debt']['count'])\n",
    "def percent(x):\n",
    "    return \"{0:.2%}\".format(x)\n",
    "purpose_total['ratio'] = purpose_total['ratio'].apply(percent)\n",
    "print(purpose_total.head())"
   ]
  },
  {
   "cell_type": "markdown",
   "id": "081fa41a",
   "metadata": {},
   "source": [
    "### 4.4.1 Subsidiary Conclusions"
   ]
  },
  {
   "cell_type": "markdown",
   "id": "1f1b9073",
   "metadata": {},
   "source": [
    "The best purpose category to repay a loan is a mortgage. The second one is the category \"for a wedding\" among clients to buy real estate. In second place is the category \"Wedding\" accounting for almost 7.91%. The lowest category is \"car loan\".\n"
   ]
  },
  {
   "cell_type": "markdown",
   "id": "49908dd0",
   "metadata": {},
   "source": [
    "## 5 Conclusions"
   ]
  },
  {
   "cell_type": "markdown",
   "id": "18018958",
   "metadata": {},
   "source": [
    "\n",
    "The ideal portrait of a person who takes out a loan is: \n",
    "\n",
    "- Without kids or having 3 one;\n",
    "\n",
    "- Divorced or widowed;\n",
    "\n",
    "- The purpose of a loan is \"wedding\" or \"mortgage\";\n",
    "\n",
    "- Middle-to-low total income per year. \n",
    "\n",
    "According to regional peculiarity, low-year-income customers repay the loan to maintain a high credit rating score. Thus, we should test this hypothesis.\n",
    "\n",
    "My recommendation for business: Focus on the above target audience. Build product solutions to attract such a cohort of users/customers. It is also essential to study the income cohorts in more detail. People with the lowest and highest incomes are less relevant for comparison. More data is needed to compile a portrait of customers."
   ]
  },
  {
   "cell_type": "code",
   "execution_count": null,
   "id": "ff8a3cec",
   "metadata": {},
   "outputs": [],
   "source": []
  }
 ],
 "metadata": {
  "kernelspec": {
   "display_name": "Python 3 (ipykernel)",
   "language": "python",
   "name": "python3"
  },
  "language_info": {
   "codemirror_mode": {
    "name": "ipython",
    "version": 3
   },
   "file_extension": ".py",
   "mimetype": "text/x-python",
   "name": "python",
   "nbconvert_exporter": "python",
   "pygments_lexer": "ipython3",
   "version": "3.9.12"
  }
 },
 "nbformat": 4,
 "nbformat_minor": 5
}
